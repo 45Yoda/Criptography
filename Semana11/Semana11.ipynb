{
 "cells": [
  {
   "cell_type": "code",
   "execution_count": 3,
   "metadata": {},
   "outputs": [
    {
     "ename": "TypeError",
     "evalue": "initializer for ctype 'EVP_PKEY *' must be a cdata pointer, not PKey",
     "output_type": "error",
     "traceback": [
      "\u001b[0;31m---------------------------------------------------------------------------\u001b[0m",
      "\u001b[0;31mTypeError\u001b[0m                                 Traceback (most recent call last)",
      "\u001b[0;32m<ipython-input-3-87ea528d86ee>\u001b[0m in \u001b[0;36m<module>\u001b[0;34m()\u001b[0m\n\u001b[1;32m     30\u001b[0m         \u001b[0mcert_file\u001b[0m\u001b[0;34m.\u001b[0m\u001b[0mwrite\u001b[0m\u001b[0;34m(\u001b[0m\u001b[0mcert_pem\u001b[0m\u001b[0;34m)\u001b[0m\u001b[0;34m\u001b[0m\u001b[0m\n\u001b[1;32m     31\u001b[0m \u001b[0;34m\u001b[0m\u001b[0m\n\u001b[0;32m---> 32\u001b[0;31m \u001b[0mCliente\u001b[0m\u001b[0;34m(\u001b[0m\u001b[0;34m)\u001b[0m\u001b[0;34m\u001b[0m\u001b[0m\n\u001b[0m\u001b[1;32m     33\u001b[0m \u001b[0mServidor\u001b[0m\u001b[0;34m(\u001b[0m\u001b[0;34m)\u001b[0m\u001b[0;34m\u001b[0m\u001b[0m\n\u001b[1;32m     34\u001b[0m \u001b[0mCert\u001b[0m\u001b[0;34m(\u001b[0m\u001b[0;34m)\u001b[0m\u001b[0;34m\u001b[0m\u001b[0m\n",
      "\u001b[0;32m<ipython-input-3-87ea528d86ee>\u001b[0m in \u001b[0;36mCliente\u001b[0;34m()\u001b[0m\n\u001b[1;32m      5\u001b[0m     \u001b[0mcliente_pem\u001b[0m \u001b[0;34m=\u001b[0m \u001b[0mcrypto\u001b[0m\u001b[0;34m.\u001b[0m\u001b[0mdump_certificate\u001b[0m\u001b[0;34m(\u001b[0m\u001b[0mcrypto\u001b[0m\u001b[0;34m.\u001b[0m\u001b[0mFILETYPE_PEM\u001b[0m\u001b[0;34m,\u001b[0m \u001b[0mcliente_p12\u001b[0m\u001b[0;34m.\u001b[0m\u001b[0mget_certificate\u001b[0m\u001b[0;34m(\u001b[0m\u001b[0;34m)\u001b[0m\u001b[0;34m)\u001b[0m\u001b[0;34m\u001b[0m\u001b[0m\n\u001b[1;32m      6\u001b[0m     \u001b[0mcliente_priv\u001b[0m \u001b[0;34m=\u001b[0m \u001b[0mcrypto\u001b[0m\u001b[0;34m.\u001b[0m\u001b[0mdump_privatekey\u001b[0m\u001b[0;34m(\u001b[0m\u001b[0mcrypto\u001b[0m\u001b[0;34m.\u001b[0m\u001b[0mFILETYPE_PEM\u001b[0m\u001b[0;34m,\u001b[0m \u001b[0mcliente_p12\u001b[0m\u001b[0;34m.\u001b[0m\u001b[0mget_privatekey\u001b[0m\u001b[0;34m(\u001b[0m\u001b[0;34m)\u001b[0m\u001b[0;34m,\u001b[0m \u001b[0;32mNone\u001b[0m\u001b[0;34m,\u001b[0m\u001b[0;34mb'1234'\u001b[0m\u001b[0;34m)\u001b[0m\u001b[0;34m\u001b[0m\u001b[0m\n\u001b[0;32m----> 7\u001b[0;31m     \u001b[0mcliente_pub\u001b[0m \u001b[0;34m=\u001b[0m \u001b[0mcrypto\u001b[0m\u001b[0;34m.\u001b[0m\u001b[0mdump_publickey\u001b[0m\u001b[0;34m(\u001b[0m\u001b[0mcrypto\u001b[0m\u001b[0;34m.\u001b[0m\u001b[0mFILETYPE_PEM\u001b[0m\u001b[0;34m,\u001b[0m \u001b[0mcliente_p12\u001b[0m\u001b[0;34m)\u001b[0m\u001b[0;34m\u001b[0m\u001b[0m\n\u001b[0m\u001b[1;32m      8\u001b[0m \u001b[0;34m\u001b[0m\u001b[0m\n\u001b[1;32m      9\u001b[0m     \u001b[0;32mwith\u001b[0m \u001b[0mopen\u001b[0m\u001b[0;34m(\u001b[0m\u001b[0;34m'Cliente.pem'\u001b[0m\u001b[0;34m,\u001b[0m \u001b[0;34m'wb'\u001b[0m\u001b[0;34m)\u001b[0m \u001b[0;32mas\u001b[0m \u001b[0mcliente_file\u001b[0m\u001b[0;34m:\u001b[0m\u001b[0;34m\u001b[0m\u001b[0m\n",
      "\u001b[0;32m/usr/local/lib/python3.5/dist-packages/OpenSSL/crypto.py\u001b[0m in \u001b[0;36mdump_publickey\u001b[0;34m(type, pkey)\u001b[0m\n\u001b[1;32m   1832\u001b[0m         \u001b[0;32mraise\u001b[0m \u001b[0mValueError\u001b[0m\u001b[0;34m(\u001b[0m\u001b[0;34m\"type argument must be FILETYPE_PEM or FILETYPE_ASN1\"\u001b[0m\u001b[0;34m)\u001b[0m\u001b[0;34m\u001b[0m\u001b[0m\n\u001b[1;32m   1833\u001b[0m \u001b[0;34m\u001b[0m\u001b[0m\n\u001b[0;32m-> 1834\u001b[0;31m     \u001b[0mresult_code\u001b[0m \u001b[0;34m=\u001b[0m \u001b[0mwrite_bio\u001b[0m\u001b[0;34m(\u001b[0m\u001b[0mbio\u001b[0m\u001b[0;34m,\u001b[0m \u001b[0mpkey\u001b[0m\u001b[0;34m.\u001b[0m\u001b[0m_pkey\u001b[0m\u001b[0;34m)\u001b[0m\u001b[0;34m\u001b[0m\u001b[0m\n\u001b[0m\u001b[1;32m   1835\u001b[0m     \u001b[0;32mif\u001b[0m \u001b[0mresult_code\u001b[0m \u001b[0;34m!=\u001b[0m \u001b[0;36m1\u001b[0m\u001b[0;34m:\u001b[0m  \u001b[0;31m# pragma: no cover\u001b[0m\u001b[0;34m\u001b[0m\u001b[0m\n\u001b[1;32m   1836\u001b[0m         \u001b[0m_raise_current_error\u001b[0m\u001b[0;34m(\u001b[0m\u001b[0;34m)\u001b[0m\u001b[0;34m\u001b[0m\u001b[0m\n",
      "\u001b[0;31mTypeError\u001b[0m: initializer for ctype 'EVP_PKEY *' must be a cdata pointer, not PKey"
     ]
    }
   ],
   "source": [
    "from OpenSSL import SSL, crypto\n",
    "\n",
    "def Cliente():\n",
    "    cliente_p12 = crypto.load_pkcs12(open(\"Cliente.p12\", 'rb').read(), b'1234')\n",
    "    cliente_pem = crypto.dump_certificate(crypto.FILETYPE_PEM, cliente_p12.get_certificate())\n",
    "    cliente_priv = crypto.dump_privatekey(crypto.FILETYPE_PEM, cliente_p12.get_privatekey(), None,b'1234')\n",
    "    cliente_pub = crypto.dump_publickey(crypto.FILETYPE_PEM, cliente_p12)\n",
    "        \n",
    "    with open('Cliente.pem', 'wb') as cliente_file:\n",
    "        cliente_file.write(cliente_pem)\n",
    "    with open('pkey_Cliente.pem', 'wb') as cliente_file:\n",
    "        cliente_file.write(cliente_priv)\n",
    "    with open('pubkey_Cliente.pem', 'wb') as cliente_file:\n",
    "        cliente_file.write(cliente_pub)\n",
    "\n",
    "def Servidor():\n",
    "    servidor_p12 = crypto.load_pkcs12(open(\"Servidor.p12\", 'rb').read(), b'1234')\n",
    "    servidor_pem = crypto.dump_certificate(crypto.FILETYPE_PEM, servidor_p12.get_certificate())\n",
    "    servidor_priv = crypto.dump_privatekey(crypto.FILETYPE_PEM, servidor_p12.get_privatekey(), None,b'1234')\n",
    "    \n",
    "    with open('pubkey_Servidor.pem', 'wb') as servidor_file:\n",
    "        servidor_file.write(servidor_pem)\n",
    "    with open('pkey_Servidor.pem', 'wb') as servidor_file:\n",
    "        servidor_file.write(servidor_priv)\n",
    "        \n",
    "def Cert():\n",
    "    cert_cer = crypto.load_certificate(crypto.FILETYPE_ASN1, open(\"CA.cer\", 'rb').read())\n",
    "    cert_pem = crypto.dump_certificate(crypto.FILETYPE_PEM, cert_cer)\n",
    "    with open('CA.pem', 'wb') as cert_file:\n",
    "        cert_file.write(cert_pem)\n",
    "    \n",
    "Cliente()\n",
    "Servidor()\n",
    "Cert()"
   ]
  },
  {
   "cell_type": "code",
   "execution_count": 63,
   "metadata": {},
   "outputs": [
    {
     "name": "stdout",
     "output_type": "stream",
     "text": [
      "b'Cliente.pem: OK ; Servidor.pem: OK'\n"
     ]
    }
   ],
   "source": [
    "from OpenSSL import SSL, crypto\n",
    "from subprocess import PIPE, Popen\n",
    "\n",
    "def verify():\n",
    "    store = crypto.X509Store()\n",
    "    \n",
    "    test1 = Popen([\"openssl\", \"verify\", \"-CAfile\", \"CA.pem\", \"Cliente.pem\"], \n",
    "                              stdin = PIPE, stdout = PIPE, stderr = PIPE)\n",
    "    output1 = test1.communicate()[0]\n",
    "    \n",
    "    test2 = Popen([\"openssl\", \"verify\", \"-CAfile\", \"CA.pem\", \"Servidor.pem\"], \n",
    "                              stdin = PIPE, stdout = PIPE, stderr = PIPE)\n",
    "    output2 = test2.communicate()[0]\n",
    "    \n",
    "    output = output1[:-1] + b' ; ' + output2[:-1]\n",
    "    \n",
    "    print(output)\n",
    "\n",
    "verify()"
   ]
  },
  {
   "cell_type": "code",
   "execution_count": null,
   "metadata": {},
   "outputs": [],
   "source": []
  }
 ],
 "metadata": {
  "kernelspec": {
   "display_name": "Python 3",
   "language": "python",
   "name": "python3"
  },
  "language_info": {
   "codemirror_mode": {
    "name": "ipython",
    "version": 3
   },
   "file_extension": ".py",
   "mimetype": "text/x-python",
   "name": "python",
   "nbconvert_exporter": "python",
   "pygments_lexer": "ipython3",
   "version": "3.5.2"
  }
 },
 "nbformat": 4,
 "nbformat_minor": 2
}
