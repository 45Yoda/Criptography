{
 "cells": [
  {
   "cell_type": "code",
   "execution_count": 8,
   "metadata": {},
   "outputs": [
    {
     "name": "stdout",
     "output_type": "stream",
     "text": [
      "b'\\xb9\\xb6+\\x1d#\\x05E\\xda\\n\\x1c\\x1f\\x86\\xacYv\\xa6}S\\xfbCB\\xe3'\n"
     ]
    }
   ],
   "source": [
    "from Crypto.Cipher import Salsa20\n",
    "\n",
    "plaintext = b'Attack at dawn'\n",
    "secret = b'*Thirty-two byte (256 bits) key*'\n",
    "cipher = Salsa20.new(key=secret)\n",
    "msg = cipher.nonce + cipher.encrypt(plaintext)\n",
    "print(msg)"
   ]
  },
  {
   "cell_type": "code",
   "execution_count": 9,
   "metadata": {},
   "outputs": [
    {
     "name": "stdout",
     "output_type": "stream",
     "text": [
      "9139919dc6095cd0111f7c677213a328f6712890992636ffc84687a91364dacf\n",
      "The message 'b'\\xb9\\xb6+\\x1d#\\x05E\\xda\\n\\x1c\\x1f\\x86\\xacYv\\xa6}S\\xfbCB\\xe3'' is authentic\n"
     ]
    }
   ],
   "source": [
    "from Crypto.Hash import HMAC, SHA256\n",
    "\n",
    "secret = b'Swordfish'\n",
    "h = HMAC.new(secret, msg, digestmod=SHA256)\n",
    "hex = h.hexdigest()\n",
    "print(hex)\n",
    "try:\n",
    "    h.hexverify(hex)\n",
    "    print(\"The message '%s' is authentic\" % msg)\n",
    "except ValueError:\n",
    "    print(\"Message has been compromised\")"
   ]
  },
  {
   "cell_type": "code",
   "execution_count": 10,
   "metadata": {},
   "outputs": [
    {
     "name": "stdout",
     "output_type": "stream",
     "text": [
      "b'Attack at dawn'\n"
     ]
    }
   ],
   "source": [
    "from Crypto.Cipher import Salsa20\n",
    "\n",
    "secret = b'*Thirty-two byte (256 bits) key*'\n",
    "msg_nonce = msg[:8]\n",
    "ciphertext = msg[8:]\n",
    "cipher = Salsa20.new(key=secret, nonce=msg_nonce)\n",
    "plaintext = cipher.decrypt(ciphertext)\n",
    "print(plaintext)"
   ]
  }
 ],
 "metadata": {
  "kernelspec": {
   "display_name": "Python 3",
   "language": "python",
   "name": "python3"
  },
  "language_info": {
   "codemirror_mode": {
    "name": "ipython",
    "version": 3
   },
   "file_extension": ".py",
   "mimetype": "text/x-python",
   "name": "python",
   "nbconvert_exporter": "python",
   "pygments_lexer": "ipython3",
   "version": "3.5.2"
  }
 },
 "nbformat": 4,
 "nbformat_minor": 2
}
