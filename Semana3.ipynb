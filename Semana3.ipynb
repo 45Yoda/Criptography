{
 "cells": [
  {
   "cell_type": "code",
   "execution_count": 4,
   "metadata": {},
   "outputs": [],
   "source": [
    "from Crypto.Cipher import Salsa20\n",
    "from Crypto.Random import get_random_bytes\n",
    "\n",
    "plainfile = open(\"file\", 'rb')\n",
    "secret = get_random_bytes(32)\n",
    "with open(\"secret\", 'wb') as passfile:\n",
    "    passfile.write(secret)\n",
    "cipher = Salsa20.new(key=secret)\n",
    "msg = cipher.nonce + cipher.encrypt(plainfile.read())"
   ]
  },
  {
   "cell_type": "code",
   "execution_count": 6,
   "metadata": {
    "scrolled": true
   },
   "outputs": [],
   "source": [
    "from Crypto.Hash import HMAC, SHA256\n",
    "from Crypto.Random import get_random_bytes\n",
    "\n",
    "secret = get_random_bytes(32)\n",
    "with open(\"secret\", 'ab') as passfile:\n",
    "    passfile.write(secret)\n",
    "h = HMAC.new(secret, msg, digestmod=SHA256)\n",
    "hex = h.hexdigest()"
   ]
  },
  {
   "cell_type": "code",
   "execution_count": 7,
   "metadata": {},
   "outputs": [],
   "source": [
    "from Crypto.Hash import HMAC, SHA256\n",
    "from Crypto.Cipher import Salsa20\n",
    "\n",
    "passfile = open(\"secret\", 'rb')\n",
    "secretSalsa20 = passfile.read(32)\n",
    "secretSha256 = passfile.read(32)\n",
    "h = HMAC.new(secretSha256, msg, digestmod=SHA256)\n",
    "try:\n",
    "    h.hexverify(hex)\n",
    "    msg_nonce = msg[:8]\n",
    "    ciphertext = msg[8:]\n",
    "    cipher = Salsa20.new(key=secretSalsa20, nonce=msg_nonce)\n",
    "    text = cipher.decrypt(ciphertext)\n",
    "    with open('decrypted', 'wb') as decryptedfile:\n",
    "        decryptedfile.write(text)\n",
    "except ValueError:\n",
    "    print(\"Message has been compromised\")\n",
    "passfile.close()"
   ]
  },
  {
   "cell_type": "code",
   "execution_count": null,
   "metadata": {},
   "outputs": [],
   "source": []
  }
 ],
 "metadata": {
  "kernelspec": {
   "display_name": "Python 3",
   "language": "python",
   "name": "python3"
  },
  "language_info": {
   "codemirror_mode": {
    "name": "ipython",
    "version": 3
   },
   "file_extension": ".py",
   "mimetype": "text/x-python",
   "name": "python",
   "nbconvert_exporter": "python",
   "pygments_lexer": "ipython3",
   "version": "3.5.2"
  }
 },
 "nbformat": 4,
 "nbformat_minor": 2
}
