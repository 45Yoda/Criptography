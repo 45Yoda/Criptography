{
 "cells": [
  {
   "cell_type": "code",
   "execution_count": 18,
   "metadata": {},
   "outputs": [
    {
     "name": "stdout",
     "output_type": "stream",
     "text": [
      "b'\\x08\\xf4\\xfdw\\xe6\\x0f;\\xcd\\x00\\xeb\\xf73k\\x8a\\xc3\\xd4:I\\x9bl\\xbd\\xe8'\n",
      "b'\\x97D\\x98\\x08\\x05\\xc7\\xfb\\xd3 \\xd3\\xdf\\x9dG\\x1c\\x08\\xe5\\xd5%\\x1cS\\xf4\\xee\\xd9\\xd6\\xf5\\x14\\xc1\\x8e\\x06\\xee\\xdc='\n"
     ]
    }
   ],
   "source": [
    "from Crypto.Cipher import Salsa20\n",
    "from Crypto.Random import get_random_bytes\n",
    "\n",
    "\n",
    "plaintext = b'Attack at dawn'\n",
    "secret = get_random_bytes(32)\n",
    "passfile = open(\"secret.txt\", 'wb')\n",
    "passfile.write(secret)\n",
    "cipher = Salsa20.new(key=secret)\n",
    "msg = cipher.nonce + cipher.encrypt(plaintext)\n",
    "print(msg)\n",
    "print(secret)"
   ]
  },
  {
   "cell_type": "code",
   "execution_count": 5,
   "metadata": {},
   "outputs": [
    {
     "name": "stdout",
     "output_type": "stream",
     "text": [
      "54d69aa55734df08d8d78d5abf874673c0c987b7b54f414c58d817d746ef7059\n",
      "The message 'b'\\xfe\\xc1\\xea\\x9aB>\\xddD\\xc6\\xe3\\x1d\\xe3\\xdd\\xf5\\xfd\\xb6?\\x93\\xaf\\x86\\x85\\x06'' is authentic\n"
     ]
    }
   ],
   "source": [
    "from Crypto.Hash import HMAC, SHA256\n",
    "\n",
    "secret = get_random_bytes(32)\n",
    "h = HMAC.new(secret, msg, digestmod=SHA256)\n",
    "hex = h.hexdigest()\n",
    "print(hex)\n",
    "try:\n",
    "    h.hexverify(hex)\n",
    "    print(\"The message '%s' is authentic\" % msg)\n",
    "except ValueError:\n",
    "    print(\"Message has been compromised\")"
   ]
  },
  {
   "cell_type": "code",
   "execution_count": 19,
   "metadata": {},
   "outputs": [
    {
     "name": "stdout",
     "output_type": "stream",
     "text": [
      "b'Attack at dawn'\n"
     ]
    }
   ],
   "source": [
    "from Crypto.Cipher import Salsa20\n",
    "\n",
    "passfile = open(\"secret.txt\", 'rb')\n",
    "secret = passfile.read()\n",
    "msg_nonce = msg[:8]\n",
    "ciphertext = msg[8:]\n",
    "cipher = Salsa20.new(key=secret, nonce=msg_nonce)\n",
    "plaintext = cipher.decrypt(ciphertext)\n",
    "print(plaintext)"
   ]
  }
 ],
 "metadata": {
  "kernelspec": {
   "display_name": "Python 3",
   "language": "python",
   "name": "python3"
  },
  "language_info": {
   "codemirror_mode": {
    "name": "ipython",
    "version": 3
   },
   "file_extension": ".py",
   "mimetype": "text/x-python",
   "name": "python",
   "nbconvert_exporter": "python",
   "pygments_lexer": "ipython3",
   "version": "3.5.2"
  }
 },
 "nbformat": 4,
 "nbformat_minor": 2
}
