{
 "cells": [
  {
   "cell_type": "code",
   "execution_count": 1,
   "metadata": {
    "collapsed": false
   },
   "outputs": [
    {
     "name": "stdout",
     "output_type": "stream",
     "text": [
      "b'Qualquer coisa para encriptar'\n"
     ]
    }
   ],
   "source": [
    "from Crypto.Cipher import Salsa20\n",
    "\n",
    "mensagem = b'Qualquer coisa para encriptar'\n",
    "segredo = b'ricardocertoguilhermeguerreirojo'\n",
    "cifra = Salsa20.new(key=segredo)\n",
    "msg = cifra.nonce + cifra.encrypt(mensagem)\n",
    "print(mensagem)"
   ]
  },
  {
   "cell_type": "code",
   "execution_count": 3,
   "metadata": {
    "collapsed": false
   },
   "outputs": [
    {
     "name": "stdout",
     "output_type": "stream",
     "text": [
      "b'Qualquer coisa para encriptar'\n"
     ]
    }
   ],
   "source": [
    "from Crypto.Cipher import Salsa20\n",
    "\n",
    "segredo = b'ricardocertoguilhermeguerreirojo'\n",
    "msg_nonce = msg[:8]\n",
    "ciphertext = msg[8:]\n",
    "cifra = Salsa20.new(key=segredo, nonce=msg_nonce)\n",
    "mensagem = cifra.decrypt(ciphertext)\n",
    "print(mensagem)"
   ]
  },
  {
   "cell_type": "code",
   "execution_count": 5,
   "metadata": {
    "collapsed": false
   },
   "outputs": [
    {
     "name": "stdout",
     "output_type": "stream",
     "text": [
      "185f8db32271fe25f561a6fc938b2e264306ec304eda518007d1764826381969\n"
     ]
    }
   ],
   "source": [
    "from Crypto.Hash import SHA256\n",
    "\n",
    "h = SHA256.new()\n",
    "h.update(b'Hello')\n",
    "print (h.hexdigest())"
   ]
  },
  {
   "cell_type": "code",
   "execution_count": null,
   "metadata": {
    "collapsed": true
   },
   "outputs": [],
   "source": []
  }
 ],
 "metadata": {
  "kernelspec": {
   "display_name": "Python 3",
   "language": "python",
   "name": "python3"
  },
  "language_info": {
   "codemirror_mode": {
    "name": "ipython",
    "version": 3
   },
   "file_extension": ".py",
   "mimetype": "text/x-python",
   "name": "python",
   "nbconvert_exporter": "python",
   "pygments_lexer": "ipython3",
   "version": "3.5.1"
  }
 },
 "nbformat": 4,
 "nbformat_minor": 2
}
