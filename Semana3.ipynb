{
 "cells": [
  {
   "cell_type": "code",
   "execution_count": 85,
   "metadata": {},
   "outputs": [
    {
     "name": "stdout",
     "output_type": "stream",
     "text": [
      "b'q\\xd5\\xa1\\xfbr\\x94\\xa85\\r\\x9d\\xf8\\xe7?\\x84Xq\\x9a\\xfb\\x17\\x0bO\\x0c'\n"
     ]
    }
   ],
   "source": [
    "from Crypto.Cipher import Salsa20\n",
    "\n",
    "plaintext = b'Attack at dawn'\n",
    "secret = b'*Thirty-two byte (256 bits) key*'\n",
    "cipher = Salsa20.new(key=secret)\n",
    "msg = cipher.nonce + cipher.encrypt(plaintext)\n",
    "print(msg)"
   ]
  },
  {
   "cell_type": "code",
   "execution_count": 86,
   "metadata": {},
   "outputs": [
    {
     "name": "stdout",
     "output_type": "stream",
     "text": [
      "afb44fad8c33c3f3a9d5abd9bfb4073a7dea076053b5e05e2f3188a5abf624bf\n",
      "The message 'b'q\\xd5\\xa1\\xfbr\\x94\\xa85\\r\\x9d\\xf8\\xe7?\\x84Xq\\x9a\\xfb\\x17\\x0bO\\x0c'' is authentic\n"
     ]
    }
   ],
   "source": [
    "from Crypto.Hash import HMAC, SHA256\n",
    "\n",
    "secret = b'Swordfish'\n",
    "h = HMAC.new(secret, msg, digestmod=SHA256)\n",
    "hex = h.hexdigest()\n",
    "print(hex)\n",
    "try:\n",
    "    h.hexverify(hex)\n",
    "    print(\"The message '%s' is authentic\" % msg)\n",
    "except ValueError:\n",
    "    print(\"The message or the key is wrong\")"
   ]
  },
  {
   "cell_type": "code",
   "execution_count": 87,
   "metadata": {},
   "outputs": [
    {
     "name": "stdout",
     "output_type": "stream",
     "text": [
      "b'Attack at dawn'\n"
     ]
    }
   ],
   "source": [
    "from Crypto.Cipher import Salsa20\n",
    "\n",
    "secret = b'*Thirty-two byte (256 bits) key*'\n",
    "msg_nonce = msg[:8]\n",
    "ciphertext = msg[8:]\n",
    "cipher = Salsa20.new(key=secret, nonce=msg_nonce)\n",
    "plaintext = cipher.decrypt(ciphertext)\n",
    "print(plaintext)"
   ]
  },
  {
   "cell_type": "code",
   "execution_count": null,
   "metadata": {},
   "outputs": [],
   "source": []
  }
 ],
 "metadata": {
  "kernelspec": {
   "display_name": "Python 3",
   "language": "python",
   "name": "python3"
  },
  "language_info": {
   "codemirror_mode": {
    "name": "ipython",
    "version": 3
   },
   "file_extension": ".py",
   "mimetype": "text/x-python",
   "name": "python",
   "nbconvert_exporter": "python",
   "pygments_lexer": "ipython3",
   "version": "3.5.2"
  }
 },
 "nbformat": 4,
 "nbformat_minor": 2
}
