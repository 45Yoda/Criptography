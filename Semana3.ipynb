{
 "cells": [
  {
   "cell_type": "code",
   "execution_count": 3,
   "metadata": {},
   "outputs": [],
   "source": [
    "from Crypto.Cipher import Salsa20\n",
    "\n",
    "plaintext = b'Attack at dawn'\n",
    "secret = b'*Thirty-two byte (256 bits) key*'\n",
    "cipher = Salsa20.new(key=secret)\n",
    "msg = cipher.nonce + cipher.encrypt(plaintext)"
   ]
  },
  {
   "cell_type": "code",
   "execution_count": 6,
   "metadata": {},
   "outputs": [
    {
     "name": "stdout",
     "output_type": "stream",
     "text": [
      "b'Attack at dawn'\n"
     ]
    }
   ],
   "source": [
    "from Crypto.Cipher import Salsa20\n",
    "\n",
    "secret = b'*Thirty-two byte (256 bits) key*'\n",
    "msg_nonce = msg[:8]\n",
    "ciphertext = msg[8:]\n",
    "cipher = Salsa20.new(key=secret, nonce=msg_nonce)\n",
    "plaintext = cipher.decrypt(ciphertext)\n",
    "print(plaintext)"
   ]
  },
  {
   "cell_type": "code",
   "execution_count": null,
   "metadata": {},
   "outputs": [],
   "source": []
  }
 ],
 "metadata": {
  "kernelspec": {
   "display_name": "Python 3",
   "language": "python",
   "name": "python3"
  },
  "language_info": {
   "codemirror_mode": {
    "name": "ipython",
    "version": 3
   },
   "file_extension": ".py",
   "mimetype": "text/x-python",
   "name": "python",
   "nbconvert_exporter": "python",
   "pygments_lexer": "ipython3",
   "version": "3.5.2"
  }
 },
 "nbformat": 4,
 "nbformat_minor": 2
}
